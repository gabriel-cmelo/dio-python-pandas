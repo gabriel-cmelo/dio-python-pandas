{
  "nbformat": 4,
  "nbformat_minor": 0,
  "metadata": {
    "colab": {
      "provenance": []
    },
    "kernelspec": {
      "name": "python3",
      "display_name": "Python 3"
    },
    "language_info": {
      "name": "python"
    }
  },
  "cells": [
    {
      "cell_type": "code",
      "execution_count": 1,
      "metadata": {
        "colab": {
          "base_uri": "https://localhost:8080/"
        },
        "id": "lW8CibudOJSM",
        "outputId": "f831ee84-c3ea-430b-b234-a9eb0634645d"
      },
      "outputs": [
        {
          "output_type": "stream",
          "name": "stdout",
          "text": [
            "Requirement already satisfied: pandas in /usr/local/lib/python3.10/dist-packages (1.5.3)\n",
            "Requirement already satisfied: python-dateutil>=2.8.1 in /usr/local/lib/python3.10/dist-packages (from pandas) (2.8.2)\n",
            "Requirement already satisfied: pytz>=2020.1 in /usr/local/lib/python3.10/dist-packages (from pandas) (2023.4)\n",
            "Requirement already satisfied: numpy>=1.21.0 in /usr/local/lib/python3.10/dist-packages (from pandas) (1.25.2)\n",
            "Requirement already satisfied: six>=1.5 in /usr/local/lib/python3.10/dist-packages (from python-dateutil>=2.8.1->pandas) (1.16.0)\n"
          ]
        }
      ],
      "source": [
        "pip install pandas"
      ]
    },
    {
      "cell_type": "code",
      "source": [
        "import pandas as pd\n",
        "\n",
        "# Criar um DataFrame fictício\n",
        "dados = {\n",
        "    'Produto': ['A', 'B', 'C', 'A', 'B', 'C'],\n",
        "    'Vendas': [100, 150, 200, 120, 180, 220],\n",
        "    'Lucro': [20, 30, 40, 25, 35, 45],\n",
        "}\n",
        "\n",
        "df = pd.DataFrame(dados)\n",
        "\n",
        "# Exibir as primeiras linhas do DataFrame\n",
        "print(\"DataFrame:\")\n",
        "print(df.head())\n",
        "\n",
        "# Resumo estatístico do DataFrame\n",
        "print(\"\\nResumo estatístico:\")\n",
        "print(df.describe().round(2))\n",
        "\n",
        "# Agrupar por produto e calcular a média das vendas e lucro\n",
        "grupo_produto = df.groupby('Produto').mean()\n",
        "print(\"\\nMédia de Vendas e Lucro por Produto:\")\n",
        "print(grupo_produto)\n",
        "\n",
        "# Visualização simples usando gráfico de barras\n",
        "import matplotlib.pyplot as plt\n",
        "\n",
        "df.plot(kind='bar', x='Produto', y='Vendas', legend=False)\n",
        "plt.title('Vendas por Produto')\n",
        "plt.xlabel('Produto')\n",
        "plt.ylabel('Vendas')\n",
        "plt.show()\n"
      ],
      "metadata": {
        "colab": {
          "base_uri": "https://localhost:8080/",
          "height": 901
        },
        "id": "sDCUHNvtORfC",
        "outputId": "0ac1b081-96ff-4806-85a9-fd348b16fd70"
      },
      "execution_count": 3,
      "outputs": [
        {
          "output_type": "stream",
          "name": "stdout",
          "text": [
            "DataFrame:\n",
            "  Produto  Vendas  Lucro\n",
            "0       A     100     20\n",
            "1       B     150     30\n",
            "2       C     200     40\n",
            "3       A     120     25\n",
            "4       B     180     35\n",
            "\n",
            "Resumo estatístico:\n",
            "       Vendas  Lucro\n",
            "count    6.00   6.00\n",
            "mean   161.67  32.50\n",
            "std     46.65   9.35\n",
            "min    100.00  20.00\n",
            "25%    127.50  26.25\n",
            "50%    165.00  32.50\n",
            "75%    195.00  38.75\n",
            "max    220.00  45.00\n",
            "\n",
            "Média de Vendas e Lucro por Produto:\n",
            "         Vendas  Lucro\n",
            "Produto               \n",
            "A         110.0   22.5\n",
            "B         165.0   32.5\n",
            "C         210.0   42.5\n"
          ]
        },
        {
          "output_type": "display_data",
          "data": {
            "text/plain": [
              "<Figure size 640x480 with 1 Axes>"
            ],
            "image/png": "[encoded data removed]"
          },
          "metadata": {}
        }
      ]
    }
  ]
}